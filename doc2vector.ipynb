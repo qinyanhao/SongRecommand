{
 "cells": [
  {
   "cell_type": "code",
   "execution_count": 1,
   "metadata": {},
   "outputs": [],
   "source": [
    "import multiprocessing\n",
    "import pandas as pd\n",
    "from ckiptagger import WS\n",
    "from gensim.models.doc2vec import TaggedDocument, Doc2Vec\n",
    "\n",
    "\n",
    "# 讀取檔案\n",
    "corpusDF=pd.read_csv(\"./lyricDF.csv\")"
   ]
  },
  {
   "cell_type": "code",
   "execution_count": 2,
   "metadata": {},
   "outputs": [
    {
     "name": "stderr",
     "output_type": "stream",
     "text": [
      "c:\\Users\\Admin\\miniconda3\\envs\\pythonnlp2\\lib\\site-packages\\ckiptagger\\model_ws.py:106: UserWarning: `tf.nn.rnn_cell.LSTMCell` is deprecated and will be removed in a future version. This class is equivalent as `tf.keras.layers.LSTMCell`, and will be replaced by that in Tensorflow 2.0.\n",
      "  cell = tf.compat.v1.nn.rnn_cell.LSTMCell(hidden_d, name=name)\n"
     ]
    }
   ],
   "source": [
    "# 斷詞\n",
    "\n",
    "pth = \"C:/Users/Admin/miniconda3\"  # 請自行更改為斷詞data所在的資料位置\n",
    "ws = WS(f\"{pth}/data\")\n",
    "\n",
    "tokens = ws(corpusDF.Lyric)\n",
    "\n",
    "tokenizedSong = []\n",
    "\n",
    "for token in tokens:\n",
    "    tokenizedSong.append(' '.join(token))"
   ]
  },
  {
   "cell_type": "code",
   "execution_count": 3,
   "metadata": {},
   "outputs": [],
   "source": [
    "# Doc2vec\n",
    "\n",
    "             #看CPU有多少核心可以用\n",
    "number_cors = multiprocessing.cpu_count()\n",
    "\n",
    "corpus = tokenizedSong\n",
    "training_corpus = []\n",
    "for i, text in enumerate(corpus):\n",
    "\n",
    "    tagged_doc = TaggedDocument(text, [i])               \n",
    "    training_corpus.append(tagged_doc)\n",
    "\n",
    "# 用 10 做為窗口大小及100做為詞向量的維度\n",
    "# .min_count 是詞彙的最小文本頻率\n",
    "# 建立模型\n",
    "# size 改稱：vector_size；iter 改稱：epochs\n",
    "\n",
    "model = Doc2Vec(vector_size=100, window=10, min_count=2, workers=number_cors, epochs=10)\n",
    "\n",
    "# 訓練模型前先編輯詞彙\n",
    "model.build_vocab(training_corpus)\n",
    "\n",
    "# 進行10個世代的訓練\n",
    "model.train(training_corpus, total_examples=model.corpus_count, epochs=model.epochs)"
   ]
  },
  {
   "cell_type": "code",
   "execution_count": 12,
   "metadata": {},
   "outputs": [],
   "source": [
    "def recommand(query):\n",
    "\n",
    "    # query斷詞\n",
    "    inqTokens = ws(query)\n",
    "    inqTokenized =' '.join(sum(inqTokens,[]))\n",
    "\n",
    "    # 輸出結果\n",
    "    print(f\"輸入段落：{inqTokenized}\")\n",
    "    print()\n",
    "\n",
    "    inferred_vector = model.infer_vector(doc_words=[inqTokenized], epochs=10)\n",
    "\n",
    "    # dv = docvecs\n",
    "    sims = model.docvecs.most_similar([inferred_vector], topn=5)\n",
    "    n=1\n",
    "\n",
    "    print(\"以下是推薦的歌曲:\")\n",
    "    for count, sim in sims:\n",
    "        print(f'第{n}首  {corpusDF.Singer[count]}  {corpusDF.Title[count]}')\n",
    "        print(f'{corpusDF.Lyric[count]}')\n",
    "        print()\n",
    "        print()\n",
    "        n+=1"
   ]
  },
  {
   "cell_type": "code",
   "execution_count": 14,
   "metadata": {},
   "outputs": [
    {
     "name": "stdout",
     "output_type": "stream",
     "text": [
      "輸入段落：請 推薦 我 快樂 的 歌 。\n",
      "\n",
      "以下是推薦的歌曲:\n",
      "第1首  謝霆鋒  終點站\n",
      "停下腳步 放棄追逐 請你被我照顧 畫個溫暖藍圖 愛的溫度 熱情恢復 手中的幸福值得傾訴 心事有你分攤不再沉重中走的太蹣跚 問號有了答案 你是我的港灣 心被感謝充滿 是你讓我感動用不完 我甘願為你不做單身漢 流浪到了終點站 快樂每天都瀏覽 還欠彼此心中的愛 一起不孤單 我們找到終點站 往下個起點追趕 有了你甘願平淡 牽著你變得勇敢 跟著你走一路上都平安 停下腳步 放棄追逐 請你被我照顧 畫個溫暖藍圖 愛的溫度 熱情恢復 手中的幸福值得傾訴 心事有你分攤不再沉重中走的太蹣跚 問號有了答案 你是我的港灣 心被感謝充滿 是你讓我感動用不完 我甘願為你不做單身漢 流浪到了終點站 快樂每天都瀏覽 還欠彼此心中的愛 一起不孤單 我們找到終點站 往下個起點追趕 有了你甘願平淡 牽著你變得勇敢 跟著你走一路上都平安 流浪到了終點站 快樂每天都瀏覽 還欠彼此心中的愛 一起不孤單 我們找到終點站 往下個起點追趕 有了你甘願平淡 牽著你變得勇敢 跟著你走一路上都平安\n",
      "\n",
      "\n",
      "第2首  張杰  向前衝\n",
      "電視劇 號手就位 主題曲 一提到 未來啊 我想過無數可能 會跨山 也追風 衝撞一段段旅程 頑劣小孩 長成可靠的大人 我沒想過 有一天戎裝一身 我仰望 的藍天 歸屬於我的靈魂 我雙手 的長劍 築起堅固的甲盾 午夜時分 總要有人守著燈 談起犧牲 是榮耀回歸了星塵 向前衝 我可以 不吝每一次演練當戰鬥 用十年 二十年 將夢百分百命中 我是號手 等東風起 要配得上光榮 我仰望 的藍天 它點亮我的靈魂 我雙手 的長劍 早在危難前動身 午夜時分 總要有人守著燈 談起犧牲 是榮耀回歸了星塵 向前衝 我可以 不吝每一次演練當戰鬥 用十年 二十年 將夢百分百命中 我的鐵拳英勇 每一擊有責任的厚重 我的國英雄 它的戰士向前衝 記住我們 名字叫號手 等東風起 那一刻光榮\n",
      "\n",
      "\n",
      "第3首  黎明  相信\n",
      "請相信我學會的堅持來自你的影響　有你在心中　困境能把我怎樣 每當我眼前山高水長　孤身為夢想好忙 你的一句關懷　把我每個明天都點亮 ＊我相信我看到的未來跟你一樣　困難只是暫時　我們會解開 　你教我怎麼駕馭情感　把思念熬成習慣 　相愛像穿越海洋　你像遠方那點星光 ＃因為愛　因為夢　因為相信所以堅定從容 　距離再遠　沒有埋怨　不需要誓言 △這一世　這一生　這分鐘寫下我們的故事 　距離再遠　不會消失　不需要解釋 ★才能相隔兩地隔絕不了兩顆心　讓距離思念更堅固真情 　某年某月回來　這牽繫永遠在 Repeat ＊,＃,△,★ 有夢　所以珍貴 有愛　所以敢單飛 有你　所以無悔 我無悔　知道有你一起追 Repeat ＃,△,★\n",
      "\n",
      "\n",
      "第4首  倫桑  浩世蒼茫錄\n",
      "曾淬過鮮血的長鋒 負不起山河的沉重 烽煙復燃矇住雙瞳 照不見那斜陽殘紅 曾穿雲貫日的白虹 暗伏下怎樣的洶湧 是誰自封無名英雄 縱馬越過冰湖雪峰 風起時雲會湧 誰能隻手掌控 化身騰飛蒼龍 破開混沌虛空 戡平亂世凌駕於頂峰 卻尋不到來時的影蹤 此生何去何從 換你聲色不動 漸冷卻的心中 藏著焚世火種 若能燃碎無垠的蒼穹 燒作劫灰餘燼是否就能懂 荒野上伶仃的星燈 照亮碎在塵寰的夢 黃泉路前忘情相擁 三魂不安七魄悸動 風起時雲會湧 誰能隻手掌控 化身騰飛蒼龍 破開混沌虛空 戡平亂世凌駕於頂峰 卻尋不到來時的影蹤 此生何去何從 換你聲色不動 漸冷卻的心中 藏著焚世火種 若能燃碎無垠的蒼穹 燒作劫灰餘燼是否就能懂 走過南北西東 往事一杯隨風 問遍春夏秋冬 此情幾分輕重 總有傳說不是為傳頌 題寫終心去銘記初衷 最美不過初逢 也恨有始無終 痛到忘卻傷痛 誰能生死與共 剩你傾城遺世的笑容 刻入那捲青史斷章殘頁中\n",
      "\n",
      "\n",
      "第5首  毛不易  我會守在這裡\n",
      "電視劇 以家人之名 片尾主題曲 想起第一次握你的手 你緊握像我是你所有 一個漸漸變大了 另一個變小了 歲月讓我們在中間相逢 Goodnight Goodbye My Children 也許你離開這裡 也許回家的路 越來越長 慢慢的走 不用回望 我會守在這裡 陪著你的背影去遙望 我像你住慣的舊房子 有一天你尋找新的日子 就像是一片葉子 飛向更遠的樹枝 那些歲月就像 只是昨日 Goodnight Goodbye My children 也許你離開這裡 也許回家的路 越來越長 慢慢的走 不用悲傷 我會守在這裡 目送你飛向遠方\n",
      "\n",
      "\n"
     ]
    }
   ],
   "source": [
    "# 請在此輸入想要推薦的內容。\n",
    "\n",
    "query=['請推薦我快樂的歌。']\n",
    "recommand(query)\n"
   ]
  },
  {
   "cell_type": "code",
   "execution_count": 13,
   "metadata": {},
   "outputs": [
    {
     "name": "stdout",
     "output_type": "stream",
     "text": [
      "輸入段落：心情 愉悅 開開 心心 ， 春暖花開 高興 愉快 。\n",
      "\n",
      "以下是推薦的歌曲:\n",
      "第1首  薛之謙  楚河漢界\n",
      "你在楚河那面 灰色的天 沒有語言 分河界兩邊 天空留閃電 在破曉以前 你在河界那面 點起狼煙 手指向天 宣告你的野心 戰役不可避免 鐵騎粘著血液 一路往前 將字當先 要在天黑以前 奪走我的雙眼 你的軍隊過界 想隻手遮天 碰觸我的底線 軍令放左手邊 宣誓要將你殲滅 耶耶~ 我用兵果斷 功車馬連環 九宮能掀翻 你的千軍萬馬 請躺在我的城前 我用最最美的方式 解決你 我用最最美的佈陣 把你留在我的棋裡 那年群雄並起 想統一天下的你 我血快要留盡 雙手檔著你 就讓後人證明 用象牙刻成臉 刻你我英勇的野心 你的軍隊過界 想隻手遮天 碰觸我的底線 軍令放左手邊 宣誓要將你殲滅 耶耶~ 我用兵果斷 功車馬連環 九宮能掀翻 你的千軍萬馬 請躺在我的城前 我用最最美的方式 解決你 我用最最美的佈陣 把你留在我的棋裡 那年群雄並起 想統一天下的你 我血快要留盡 雙手檔著你 就讓後人證明 用象牙刻成臉 刻你我英勇的野心 那年群雄並起 想統一天下的你 我血快要留盡 雙手檔著你 就讓後人證明 用象牙刻成臉 刻你我英勇的野心 讓棋盤記住 我和你\n",
      "\n",
      "\n",
      "第2首  王力宏  我就喜歡(勝利慶功版)\n",
      "華人嘻哈　我就喜歡　　( ya c'mon　wu a ) 這是全新的嘻哈版本 Mc 嘻哈版本　我就喜歡　一個香芋派　謝謝 端端端端端　端端端端　端端端端 我就喜歡 端端端端端　端端端端　端端端端 我就喜歡　( uh uh　yo c'mon ) 我相信音樂真的不分什麼種族 西藏的戲曲變成最流行的音符 我們的嘻哈擁有黃顏色的皮膚 歡迎你一起加入我的Chink-out國度 誰看見龍的傳人黑色的眼珠都佩服 話不多　有點嚴肅　卻都有真功夫 天生就可以吃苦　永遠都不會認輸 世界的下一步　換我們做主 ＊ Ba la ba ba ba ba ba 　 Ba la ba ba ba ba ba　我就喜歡 　 Ba la ba ba ba ba ba 　 Ba la ba ba ba　我就喜歡　(什麼都不害怕) 　 Ba la ba ba ba ba ba 　 Ba la ba ba ba ba ba 　 Ba la ba　Ba la ba 　 Ba la ba ba ba　我就喜歡 來跳舞　我的小鼓　很特殊 讓你舒服　忍不住　搖屁股 所以不要懷疑我的基礎 重點不在我的衣服 我一副要讓大家都領悟　wu 古典的編曲配　最嘻哈的舞步 這就是新一代的創作人在慶祝 咱們的文化　越來越大的腳步 從北京的奧運到好萊鎢的銀幕 (重複　＊) I'm just singing the song for you 讓你永遠不孤獨 Ba la ba ba　Ba la ba ba 真的很舒服(真的很舒服) I'm just singing the song for you 一定再也不孤獨 Ba la ba ba　Ba la ba ba Ba la la laaa 我就喜歡 Ba la ba la ba　ba ba ba　ba ba ba　wuu Ba la ba la ba　ba ba ba　ba ba ba　wuu Ba la ba la ba　ba ba ba　ba ba ba ba ba Ba ba ba　Ba ba ba Ba ba　ba la ba ba ba (重複　＊)\n",
      "\n",
      "\n",
      "第3首  李榮浩  我要你(Live)(李榮浩&周峻緯)\n",
      "無限歌謠季 我知道世界終究 所以奮不顧身 守護你的認真 我要你跟歲月擦身 我要你美麗的眼角 只為快樂揚起細紋 周： 我要你放縱真誠敢愛敢恨 我要你白髮也覆蓋不了的天真 我要你是我永遠的身份 我要你永遠記得我們 李： 把昨天說成晚安 把明天做成早餐 把生活過成習慣 分給你一半 我知道世界終究 會把我變成大人 所以奮不顧身 守護你的認真 更多更詳盡歌詞 在 <a href=\"http://mojim.com\">※ Mojim.com　魔鏡歌詞網 </a> 哦 一身平凡 李： 一心不安 一人陪伴 周： 也只留幸福的淚痕 我要你美麗的眼角 只為快樂揚起細紋 李： 我要你放縱真誠敢愛敢恨 我要你白髮也覆蓋不了的天真 我要你是我永遠的身份 我要你永遠記得我們 周： 幸福好不容易 轉過了幾個路口 依然決定 一生只寫一個故事 李： 我要你跟歲月擦身 也只留幸福的淚痕 我要你美麗的眼角 只為快樂揚起細紋 合： 我要你放縱真誠敢愛敢恨 我要你是我永遠的身份 周： 我要你永遠記得我們 李： 我要你永遠記得我們\n",
      "\n",
      "\n",
      "第4首  翁立友  十面埋伏\n",
      "風雨飄飄 路途遙遙 一路的陷阱避袂了 十面埋伏隨時到 落葉紛飛兩方針對 用生命保護所愛的伊 一場的對決要開始 刀光劍影我嘸驚 只為紅顏身不怕 陰險狼毒的手段 邪不勝正天注定 萬底深坑我嘸驚 守護紅顏過山嶺 行俠江湖無留名 只為紅顏一笑 勝天下 風雨飄飄 路途遙遙 一路的陷阱避袂了 十面埋伏隨時到 落葉紛飛兩方針對 用生命保護所愛的伊 一場的對決要開始 刀光劍影我嘸驚 只為紅顏身不怕 陰險狼毒的手段 邪不勝正天注定 萬底深坑我嘸驚 守護紅顏過山嶺 行俠江湖無留名 只為紅顏一笑 勝天下 刀光劍影我嘸驚 只為紅顏身不怕 陰險狼毒的手段 邪不勝正天注定 萬底深坑我嘸驚 守護紅顏過山嶺 行俠江湖無留名 只為紅顏一笑 勝天下\n",
      "\n",
      "\n",
      "第5首  黃明志  過節老鼠(Year\n",
      "請別再問到底　成績好不好 請別再問到底　年終領多少 請別從頭到腳　探測我的身材  有沒有變肥長高 唉唷什麼時候　男友才要交 唉唷什麼時候　結婚生寶寶 唉唷怎麼又是　這些問題  我只能對著你苦笑 我買什麼樓什麼車　每個月賺多少 倒想問你的紅包　怎麼會那麼薄　(笑笑笑笑哈) 過節過節老鼠　過節過節老鼠 想要　吱吱吱吱吱吱  想逃　吱吱吱吱吱吱 過節過節老鼠　過節過節老鼠 想笑　吱吱吱吱吱吱  想叫　吱吱吱吱吱吱 What a boring Chinese new year (Wah piang!) So many questions auntie uncle (Wah lao!) Traffic jam everywhere, people all stuck in toilet Damn tired to queue, I think they need some pampers I wish you double happy come to your door (雙喜臨門) Good thing in double, double double pair pair (好事成雙  雙雙對對) Talent look double have, name and money double get (才貌雙全 名利雙收) Double dragons go to the sea, double heng double huat lah! (雙龍出海 雙興雙發) Work hard play hard Yumseng everynight Brothers sisters Kisiao everytime yo! Pig year Rat year just hold the beer The newborn cow never scared of tiger! (初生之犢不畏虎) 260519\n",
      "\n",
      "\n"
     ]
    }
   ],
   "source": [
    "# 請在此輸入想要推薦的內容。\n",
    "\n",
    "query=['心情愉悅開開心心，春暖花開高興愉快。']\n",
    "recommand(query)"
   ]
  }
 ],
 "metadata": {
  "kernelspec": {
   "display_name": "Python 3.9.7 ('NLP')",
   "language": "python",
   "name": "python3"
  },
  "language_info": {
   "codemirror_mode": {
    "name": "ipython",
    "version": 3
   },
   "file_extension": ".py",
   "mimetype": "text/x-python",
   "name": "python",
   "nbconvert_exporter": "python",
   "pygments_lexer": "ipython3",
   "version": "3.9.7"
  },
  "orig_nbformat": 4,
  "vscode": {
   "interpreter": {
    "hash": "e2d4517b2dfcd9b85ba267cf07d5f4067fab0322a20210e4ff3fb1bc73e75c79"
   }
  }
 },
 "nbformat": 4,
 "nbformat_minor": 2
}
