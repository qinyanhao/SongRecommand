{
 "cells": [
  {
   "cell_type": "code",
   "execution_count": 2,
   "metadata": {},
   "outputs": [],
   "source": [
    "import random\n",
    "import numpy as np\n",
    "import pandas as pd\n",
    "from ckiptagger import WS\n",
    "from sklearn.decomposition import PCA\n",
    "from sklearn.feature_extraction.text import TfidfVectorizer\n",
    "\n",
    "# 讀取檔案\n",
    "dataDF = pd.read_csv('./lyricDF(tokens).csv', encoding='utf8', index_col=0)"
   ]
  },
  {
   "cell_type": "code",
   "execution_count": 3,
   "metadata": {},
   "outputs": [],
   "source": [
    "def getQueryTokens(query):\n",
    "    '''query斷詞，並加進corpus中，回傳斷詞的series'''\n",
    "\n",
    "    path = \"C:/Users/Admin/miniconda3\"  # 請自行更改為斷詞data所在的資料位置\n",
    "    ws = WS(f\"{path}/data\")\n",
    "\n",
    "    tokens = ws(query)\n",
    "\n",
    "    # 把query文本加入coupus中\n",
    "    tokenLIST=[]\n",
    "    for token in tokens:\n",
    "        tokenLIST.append(str(token))\n",
    "    tokenSeries=pd.Series(tokenLIST)\n",
    "    corpus=dataDF.Tokens.append(tokenSeries,ignore_index=True)\n",
    "\n",
    "    return corpus"
   ]
  },
  {
   "cell_type": "code",
   "execution_count": 4,
   "metadata": {},
   "outputs": [],
   "source": [
    "def recommand(corpus):\n",
    "    vectorizer = TfidfVectorizer()\n",
    "    tfidf_doc = vectorizer.fit_transform(raw_documents=corpus).toarray() #結果轉成陣列\n",
    "    tfidfDF=pd.DataFrame(tfidf_doc)\n",
    "    #len(vectorizer.vocabulary_)  #13025\n",
    "\n",
    "    # TF-IDF向量置中\n",
    "    tfidfDF = tfidfDF-tfidfDF.mean()\n",
    "\n",
    "    # 維度縮減\n",
    "    pca = PCA(n_components=20)\n",
    "    pcaFit = pca.fit(tfidfDF)         # 減去平均值那個\n",
    "    pca_topic_vectors = pcaFit.transform(tfidfDF)\n",
    "\n",
    "    columns = [f\"topic{i}\" for i in range(pca.n_components)]\n",
    "\n",
    "    pca_topic_vectorsDF = pd.DataFrame(pca_topic_vectors, columns=columns)\n",
    "\n",
    "\n",
    "    # 計算各topic的標準差\n",
    "    corpusSTD=pca_topic_vectorsDF.std()\n",
    "\n",
    "    # 只考慮那些PCA>0的主題\n",
    "    topic_pos=[]\n",
    "    for i in range(20):\n",
    "        if pca_topic_vectorsDF.loc[len(pca_topic_vectorsDF)-1][i] > 0 :\n",
    "            topic_pos.append((pca_topic_vectorsDF.loc[len(pca_topic_vectorsDF)-1][i],i))\n",
    "\n",
    "\n",
    "    # 取出PCA最大的5個topic\n",
    "    topic_fit=sorted(topic_pos,reverse=True)[:5]\n",
    "\n",
    "\n",
    "    # 選擇在2個標準差以內歌曲\n",
    "\n",
    "    std=[]\n",
    "    topicLIST=[]\n",
    "    for pca, i in topic_fit:\n",
    "        std.append(pca + corpusSTD[i]*2)\n",
    "        topicLIST.append(f'topic{i}')\n",
    "        \n",
    "    newDF= pca_topic_vectorsDF[(pca_topic_vectorsDF[topicLIST[0]] > 0 ) &\n",
    "                                (pca_topic_vectorsDF[topicLIST[0]] <= std[0]) &\n",
    "                                (pca_topic_vectorsDF[topicLIST[1]] > 0 ) &\n",
    "                                (pca_topic_vectorsDF[topicLIST[1]] <= std[1]) &\n",
    "                                (pca_topic_vectorsDF[topicLIST[2]] > 0 ) &\n",
    "                                (pca_topic_vectorsDF[topicLIST[2]] <= std[2]) &\n",
    "                                (pca_topic_vectorsDF[topicLIST[3]] > 0 ) &\n",
    "                                (pca_topic_vectorsDF[topicLIST[3]] <= std[3]) &\n",
    "                                (pca_topic_vectorsDF[topicLIST[4]] > 0 ) &\n",
    "                                (pca_topic_vectorsDF[topicLIST[4]] <= std[4]) ]\n",
    "\n",
    "    # 符合推薦的歌曲index\n",
    "    indexLIST=(list(newDF.index))\n",
    "\n",
    "\n",
    "    # 隨機選擇其中5首歌\n",
    "    pick=random.choices(indexLIST, k=5)\n",
    "\n",
    "    #印出推薦歌曲\n",
    "    print(f'推薦以下這五首歌：')\n",
    "    print()\n",
    "    for i in range(len(pick)) :\n",
    "        print(f'第{i+1}首',end=\"  \")\n",
    "        print(dataDF.Singer[pick[i]],end=\"  \")  \n",
    "        print(dataDF.Title[pick[i]])\n",
    "        print(dataDF.Lyric[pick[i]])\n",
    "        print()\n",
    "    print()"
   ]
  },
  {
   "cell_type": "code",
   "execution_count": 5,
   "metadata": {},
   "outputs": [
    {
     "name": "stderr",
     "output_type": "stream",
     "text": [
      "c:\\Users\\Admin\\miniconda3\\envs\\pythonnlp2\\lib\\site-packages\\ckiptagger\\model_ws.py:106: UserWarning: `tf.nn.rnn_cell.LSTMCell` is deprecated and will be removed in a future version. This class is equivalent as `tf.keras.layers.LSTMCell`, and will be replaced by that in Tensorflow 2.0.\n",
      "  cell = tf.compat.v1.nn.rnn_cell.LSTMCell(hidden_d, name=name)\n"
     ]
    },
    {
     "name": "stdout",
     "output_type": "stream",
     "text": [
      "推薦以下這五首歌：\n",
      "\n",
      "第1首  周華健  有故事的人\n",
      "走著　忍著　醒著　想著　看愛情悄悄近了 冷的　暖的　甜的　苦的　在心裡纏繞成河 曲折的心情有人懂　怎麼能不感動 幾乎忘了昨日的種種　開始又敢作夢 我決定不躲了　你決定不怕了　我們決定了讓愛像綠草原滋長著 天地遼闊相遇多難得　都是有故事的人才聽懂心裡的歌 我決定不躲了　你決定不怕了　就算下一秒坎坷這一秒是快樂的 曾經交心就非常值得　我要專注愛你不想別的沒有忐忑\n",
      "\n",
      "第2首  林宥嘉  天上的男人\n",
      "時代一旦瘋狂到面目猙獰 生不逢時也只能身不由己 人被命運連根拔起 再隨手散成飄萍或浮雲 靜好歲月過成了顛沛流離 好女好男哪還有選擇餘地 一個個生命被扭曲 變成了酸楚的傳奇 在天上的男人 借來了翅膀飛 憑著熱血就視死如歸 但羽翼驀然被天收回那一瞬間 回望來處 該說愛或虧欠 地上的女人們 遲早的未亡人 早把生活活成了生存 若偶爾想起沒跟上人生那段青春 淡然一笑 不是不恨 靜好歲月原來是上天悲憫 人有多殘忍人都難以置信 活生生千萬個悲劇 換幾行史冊的註記 在天上的男人 借來了翅膀飛 可惜不像候鳥去有回 當羽翼驀然被天收回那一瞬間 最後一眼 看見的美不美 地上的女人們 遲早的未亡人 一隻隻還活著的鬼魂 早擦乾淚痕藏好傷痕但求餘生 現世安穩 無戰止爭\n",
      "\n",
      "第3首  華晨宇  環遊\n",
      "我在 擁擠路口 聽人群爭吵不休 吵著無謂藉口 吵著向左向右 我環遊 這顆星球 看時間擺弄著沙漏 我不原地停留  我大步行走 走出精彩 雙腳飛 沒有疲憊 飛翔著倔強的花蕾 陽光飛 沒有傷悲 世界明媚 彼岸愛上尋找 而天空愛上了奔跑 我們怎敢睡著 我們怎敢牢騷 生命這無休旅程 然後的然後是追逐 看看誰會認輸 看誰會停步 我會一 路 奉 陪 *勇敢飛 擁吻雨水 逆風讓翱翔更珍貴 燦爛飛 擁吻沉醉 堅強花蕾 飛翔的花朵 天空的焰火 沒有太多言說 驕傲的沉默 行進若不退縮 夢不會隕落 飛翔的 自我 Repeat  *\n",
      "\n",
      "第4首  周華健  上上籤\n",
      "瞭解你　難如登天　我真不在乎再要多少時間 心若倒懸　仍感謝天　我最美的發現 男人婆　只是表面　其實你心思細過錦緞纏綿 日子久了　就明白　眾人中我還是首選 我得承認　男人有時蠢話連篇　多虧有你處處留了顏面 我有幾次心不在焉　將真話說得膚淺 男人有時蠢話連篇　越是在意越是想不周延 男人總是蠢話連篇　留在身邊討厭　沒有又掛念 感情事　怎會隨便　不會將愛恨分合視若等閒 只要妳不 以為我顛　讓我在妳身邊 那一年　上上的籤　我等著看它是否真的靈驗 虔誠的心　不改變　眾人中我會是首選 ＃男人有時蠢話連篇　幾次有你處處留了顏面 　我有幾次心不在焉　將真話說得膚淺 　我得承認　男人有時蠢話連篇　越是在意越是想不周延 　男人總是蠢話連篇　留在身邊討厭　沒有又掛念 Repeat ＃\n",
      "\n",
      "第5首  品冠  棉花糖(謝慧嫻)\n",
      "網路劇 等等啊我的青春 插曲 聽見狗在唱歌 喔喔喔 是不是耳朵壞了 在跳舞的花兒 喔喔喔 難道眼睛也壞了 原來是剛牽過你的手 棉花糖般的生活 我輕輕嚐一口 柔軟純白微甜的雲朵 燦爛我今後的笑容 空氣浪漫繽紛 喔喔喔 就像你香噴噴的 氣球五顏六色 怎麼我哼起了歌 我從沒那麼快樂 聽見狗在唱歌 喔喔喔 是不是耳朵壞了 在跳舞的花兒 喔喔喔 難道眼睛也壞了 原來是剛牽過你的手 棉花糖般的生活 我輕輕嚐一口 柔軟純白微甜的雲朵 燦爛我今後的笑容 空氣浪漫繽紛 喔喔喔 就像你香噴噴的 氣球五顏六色 怎麼我哼起了歌 我從沒那麼快樂 海風吹得好強烈 不是那是電風扇 陽光照得好耀眼 不是那是日光燈 海風吹得好強烈 不是那是電風扇 陽光照得好耀眼 那是日光燈 原來是剛牽過你的手 棉花糖般的生活 我輕輕嚐一口 柔軟純白微甜的雲朵 燦爛我今後的笑容 空氣浪漫繽紛 喔喔喔 就像你香噴噴的 氣球五顏六色 怎麼我哼起了歌 我從沒那麼快樂\n",
      "\n",
      "\n"
     ]
    }
   ],
   "source": [
    "#請在此輸入想要推薦的內容。\n",
    "query=['請推薦我快樂的歌。'] \n",
    "\n",
    "corpus=getQueryTokens(query)\n",
    "recommand(corpus)"
   ]
  },
  {
   "cell_type": "code",
   "execution_count": 5,
   "metadata": {},
   "outputs": [
    {
     "name": "stderr",
     "output_type": "stream",
     "text": [
      "c:\\Users\\Admin\\miniconda3\\envs\\pythonnlp2\\lib\\site-packages\\ckiptagger\\model_ws.py:106: UserWarning: `tf.nn.rnn_cell.LSTMCell` is deprecated and will be removed in a future version. This class is equivalent as `tf.keras.layers.LSTMCell`, and will be replaced by that in Tensorflow 2.0.\n",
      "  cell = tf.compat.v1.nn.rnn_cell.LSTMCell(hidden_d, name=name)\n"
     ]
    },
    {
     "name": "stdout",
     "output_type": "stream",
     "text": [
      "推薦以下這五首歌：\n",
      "\n",
      "第1首  羅志祥  NO\n",
      "No Cap! Real Talk Only 我言語不打太極 案例多的不勝枚舉 Totally thought I'm crazy Totally caught your eyes Nothing can stop me Cuz I'm too hot Too lit 突襲 前進 招集 著力 必須走起立竿見影 虛無 泡影 絕不成立 不樹敵 沈住氣 成助力 Only roll with the real Hold up! Bruh~ I'm for real, No joke No joke I'm for real, No joke No joke I'm the real deal, now you better listen up I Know, I Know You want to dissent dissent dissent dissent I Know, I Know You want to dissent dissent dissent dissent I rule the game! Boi Not just the fame! Boi 都蒙了 Boi 還傻傻相信啊 Boi Just turn it turn it Turn down 無知的懦弱 Clap clap 信真的不道聽途說 到處收集消息不是為了 證明 Who's fake 不在意不搖頭 並不表示 這是真的可以 Aye Aye! 不戳破 不是默許 Hold up!!! I'm for real, No joke No joke I'm for real, No joke No joke I'm the real deal, now you better listen up I Know, I Know You want to dissent dissent dissent dissent I Know, I Know You want to dissent dissent dissent dissent Hold up! Bruh~ I'm for real, No joke No joke I'm for real, No joke No joke I'm the real deal, now you better listen up I Know, I Know You want to dissent dissent dissent dissent I Know, I Know You want to dissent dissent dissent dissent\n",
      "\n",
      "第2首  Tank  垃圾愛情\n",
      "哎哎哎哎 哎哎哎 哎哎哎 喔哦喔 哦~~ 這一道眼神喚醒誰氣憤 誰讓你經歷傷神 這一場是否真的可以重刻光陰 怎麼了 這結果難道不是你所夢想的 這現實違背了理想 堅持一開始也是你講 笨蛋 那如果都只不過是時光之捨 得到了甜你還賣乖 拜託了你別這樣 你說早知道瞭解 情人如果不是傷 哦 so 情人失去了 哦 你的選擇個性被打折 那地方逃了散了怕失去了理想 我想幸福逼迫是個人不可分離的 第一次看清自己的傷痕 還想偷去我什麼 你這樣一直吞噬我對你的信任 我再也不想去聽也不想問 理想現實的難分 或許再也不會有人值得你去等 哎哎哎哎 哎哎哎 哎哎哎 怎麼了 這結果難道不是你所夢想的 這現實違背了理想 堅持一開始也是你講 笨蛋 那如果都只不過是時光之捨 得到了甜你還賣乖 拜託了你別這樣 你說早知道瞭解 情人如果不是傷 哦 so 情人失去了 哦 你的選擇個性被打折 那地方逃了散了怕失去了理想 我想幸福逼迫是個人不可分離的 第一次看清自己的傷痕 還想偷去我什麼 你這樣一直吞噬我對你的信任 我再也不想去聽也不想問 理想現實的難分 或許再也不會有人值得你去等 這一口難過讓你最氣憤 誰讓你經歷傷神 這一場是否真的可以照亮眼睛 這一道眼神喚醒誰氣憤 誰讓你經歷傷神 這一場是否真的可以重刻光陰 more and more\n",
      "\n",
      "第3首  李榮浩  山川\n",
      "太陽從亮到黑 周而複始過了多久 那姑娘問我 我們牽著手兒 不遠千里九趟私奔 放肆著餘生 要強的野⼩⼦ 瘋癲在街尾和巷⼝ 或⽼⽆所依 下坡哼的那段靡靡之⾳ 像⼭腳下⼀顆⽯頭 渺⼩的像沒有 ⼭川之⼤ 何處是我家 輕狂容不下 我⾼枕 ⼭川之華 養萬物⽣靈 卻收留不起 我和你 ⼈們呐 只不過是崩出⼭體 的泥 要強的野⼩⼦ 瘋癲在街尾和巷⼝ 或⽼⽆所依 下坡哼的那段靡靡之⾳ 像⼭腳下⼀顆⽯頭 渺⼩的像沒有 ⼭川之⼤ 何處是我家 輕狂容不下 我⾼枕 ⼭川之華 養萬物⽣靈 卻收留不起 我和你 ⼈們呐 只不過是崩出⼭體 的泥 ⼭川之⼤ 何處是我家 輕狂容不下 我⾼枕 ⼭川之華 養萬物⽣靈 卻收留不起 我和你 ⼭川怒了 那⼜怎麼呢 殉情或⽼去 都隨你 ⼈間那把 開過⼭的⼑ 刺進太多⼈ 的身體 ⼈們呐 只不過是崩出⼭體 的泥\n",
      "\n",
      "第4首  蕭煌奇  想太多\n",
      "你三更半夜睡不著 很燥 你在意他又點了誰讚 手機狂敲 嘿 誰的口水在飆 誰的人氣高 莫名其妙 問題 地球在發燒 關掉手機 沒訊號 人就浮躁 別自尋煩惱 睡個覺 別想得太糟 吃不消 你敏感思考 自我瘋掉 轉念就微笑 親愛的你真的想太多 你真的想太多 你真的想太多 哦 親愛的你真的想太多 喔哦 別忘了找快樂 親愛的你真的想太多 你真的想太多 你真的想太多 哦 哦 誰都會脆弱 哦 誰都會困惑 你工作太累發牢騷 自嘲 你黑白生活乏味無聊 像被手銬 嘿 夢想被現實刷掉 當配角 就陪笑 輕狂年少 抱負 都只剩閒聊 不惑之年到不了 只能苦笑 別自尋煩惱 睡個覺 別想得太糟 吃不消 你敏感思考 自我瘋掉 轉念就微笑 親愛的你真的想太多 你真的想太多 你真的想太多 哦 親愛的你真的想太多 喔哦 別忘了找快樂 親愛的你真的想太多 你真的想太多 你真的想太多 哦 哦 誰都會脆弱 哦 誰都會困惑 哦 就自我快樂 哦 就繼續追夢 敲敲 腦袋快開竅 敲敲 別困在牛角 壓抑症卡路里指數太高 快消耗 敲敲 別無可救藥 敲敲 把焦慮敲掉 你多眼光獨到 別輸給手低眼高 你莫名其妙感覺到 渺小 親愛的你真的想太多 你真的想太多 你真的想太多 哦 親愛的你別再想太多 喔哦 別忘了找快樂 親愛的你真的想太多 你真的想太多 你真的想太多 哦 哦 誰都會脆弱 哦 誰都會困惑 哦 就自我快樂 哦 就繼續追夢\n",
      "\n",
      "第5首  劉德華  最受歡迎男歌手\n",
      "歡迎大家嚟參加今晚嘅頒獎典禮 今晚係我哋今年嘅流行樂壇最後一張成績表呀 無錯啦　究竟邊嗰可以攞最多獎 係咪佢呀　係咪佢呀　嗌大聲D Yeah (come on... you see what...we one more... and 4.3.2.1. and now!) This is where we start 現場的轉播　我來為你介紹 陳奕迅愛sound check　古巨基有金句 Twins說了今年得獎特別　珍貴 周杰倫沒來　李克勤超帥　光明會　來了一堆黑旗子 Jolin的劈腿實在越來越厲害　多謝Paco 是一定定要的啦！ 是你唱得好聽　是我做的用心　還是他的受歡迎　(沒有人會知道　等一下就揭曉) 是你賣了第一　是我值得鼓勵　還是他的最流行　(說了不會在意　心跳還是不停) ＊最受歡迎男歌手　究竟是不是我 　最受歡迎男歌手　難道真的是你 　最受歡迎男歌手　怎麼可能是他 　穿得那麼漂亮　坐了一個晚上 ＃最受歡迎男歌手　究竟是不是我 　最受歡迎男歌手　難道真的是你 　最受歡迎男歌手　怎麼可能是他 　這麼一個巨星　居然沒有獎項 今年嘅獎項實在競爭得太劇烈啦 前面有D你諗都諗唔到居然攞到獎項 依家淨番一個獎　仲有好多人未攞呀 容祖兒會唔會冧庄呀　Twins會唔會一個都無呢 如果楊千嬅攞獎　會唔會多謝Paco呀 陳慧琳攞唔到　出年仲嚟唔嚟 克勤就攞咗啦　唔俾劉德華呀　拭目以待啦 好啦　馬上要宣佈最受歡迎男歌手啦 究竟係邊個呢　陳奕迅　李克勤 古巨基　劉德華　嗌佢哋嗰名出嚟　Yeah 也許你不會了解這麼奇怪的現象 這一切不只是個娛樂界裡的頒獎 就好像生物課本大自然的Food Chain 一環扣著一環　一鍊牽著一鍊 人生的舞台其實也就真的像這樣 你給的鼓勵　其實真的很偉大 掌聲越大我為你表演就會更精彩 不相信就把最受歡迎給我試試看 Repeat ＊　＃ 最受歡迎男歌手　究竟是不是我 最受歡迎男歌手　難道真的是你 最受歡迎男歌手　怎麼可能是他 排名分出先後　真的那麼重要 最受歡迎男歌手　究竟是不是我 最受歡迎男歌手　難道真的是你 最受歡迎男歌手　怎麼可能是他 管她得不得到　粉絲才是可靠 大家明年再見\n",
      "\n",
      "\n"
     ]
    }
   ],
   "source": [
    "#請在此輸入想要推薦的內容。\n",
    "query=['心情愉悅開開心心，春暖花開高興愉快。'] \n",
    "\n",
    "corpus=getQueryTokens(query)\n",
    "recommand(corpus)"
   ]
  }
 ],
 "metadata": {
  "kernelspec": {
   "display_name": "Python 3.9.7 ('NLP')",
   "language": "python",
   "name": "python3"
  },
  "language_info": {
   "codemirror_mode": {
    "name": "ipython",
    "version": 3
   },
   "file_extension": ".py",
   "mimetype": "text/x-python",
   "name": "python",
   "nbconvert_exporter": "python",
   "pygments_lexer": "ipython3",
   "version": "3.9.7"
  },
  "orig_nbformat": 4,
  "vscode": {
   "interpreter": {
    "hash": "e2d4517b2dfcd9b85ba267cf07d5f4067fab0322a20210e4ff3fb1bc73e75c79"
   }
  }
 },
 "nbformat": 4,
 "nbformat_minor": 2
}
