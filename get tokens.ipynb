{
 "cells": [
  {
   "cell_type": "code",
   "execution_count": 1,
   "metadata": {},
   "outputs": [],
   "source": [
    "import pandas as pd\n",
    "import re\n",
    "from ckiptagger import WS\n",
    "\n",
    "\n",
    "# 清除歌詞中多餘的符號\n",
    "dataDF = pd.read_csv('./123.csv', encoding='utf8', index_col=0)\n",
    "lyric = \"&&&&&\".join(dataDF.Lyric)\n",
    "newLyric = re.sub(\"[\\uf024\\u3000\\r\\nRepeat ＊＃△★＃＠,]\", \"\", lyric)\n"
   ]
  },
  {
   "cell_type": "code",
   "execution_count": 5,
   "metadata": {},
   "outputs": [],
   "source": [
    "# 斷詞\n",
    "path = \"C:/Users/Admin/miniconda3\"  # 請自行更改為斷詞data所在的資料位置\n",
    "ws = WS(f'{path}/data')\n",
    "\n",
    "tokens = ws(newLyric.split(\"&&&&&\"))\n",
    "\n",
    "# 加入表格中\n",
    "dataDF['Tokens'] = tokens\n",
    "\n",
    "# 輸出成csv檔\n",
    "dataDF.to_csv(\"lyric(tokens).csv\")"
   ]
  }
 ],
 "metadata": {
  "kernelspec": {
   "display_name": "Python 3.7.13 ('pythonnlp2')",
   "language": "python",
   "name": "python3"
  },
  "language_info": {
   "codemirror_mode": {
    "name": "ipython",
    "version": 3
   },
   "file_extension": ".py",
   "mimetype": "text/x-python",
   "name": "python",
   "nbconvert_exporter": "python",
   "pygments_lexer": "ipython3",
   "version": "3.7.13"
  },
  "orig_nbformat": 4,
  "vscode": {
   "interpreter": {
    "hash": "f2c4e730baa4f626c6764019f5f674d3d9d3506ba183ffa204c7813f1f24d600"
   }
  }
 },
 "nbformat": 4,
 "nbformat_minor": 2
}
